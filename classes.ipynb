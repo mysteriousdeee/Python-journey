{
 "cells": [
  {
   "cell_type": "code",
   "execution_count": 9,
   "metadata": {},
   "outputs": [
    {
     "name": "stdout",
     "output_type": "stream",
     "text": [
      "show state (1, 2)\n",
      "(1, 2)\n",
      "<class 'str'>\n"
     ]
    }
   ],
   "source": [
    "#class for creating blueprint for an object\n",
    "#object is an instance for a class\n",
    "\n",
    "class Points:\n",
    "    def __init__(self, x, y):\n",
    "        self.x = x\n",
    "        self.y = y\n",
    "\n",
    "    @classmethod\n",
    "    def zero(cls):\n",
    "        return cls(0, 0)\n",
    "        \n",
    "    def __str__(self):\n",
    "        return f\"({self.x}, {self.y})\"\n",
    "    \n",
    "    def reveal(self):\n",
    "        print(f\"show state ({self.x}, {self.y})\")\n",
    "        pass\n",
    "\n",
    "\n",
    "point = Points.zero()\n",
    "point = Points(1, 2)\n",
    "point.reveal()\n",
    "print(str(point))\n",
    "print(type(str(point)))\n",
    "\n"
   ]
  },
  {
   "cell_type": "code",
   "execution_count": 33,
   "metadata": {},
   "outputs": [
    {
     "name": "stdout",
     "output_type": "stream",
     "text": [
      "0\n",
      "{'python': 3, 'learn': 1}\n",
      "2\n",
      "python\n",
      "learn\n"
     ]
    }
   ],
   "source": [
    "class TagCloud:\n",
    "    #__init__: Initializes an empty dictionary to store the tags and their counts\n",
    "    def __init__(self):\n",
    "        self.tags = {}\n",
    "    \n",
    "    #Adds a tag to the dictionary, converting it to lowercase first to ensure that case does not affect the count. If the tag already exists in the dictionary, its count is incremented by 1.\n",
    "    def add(self, tag):\n",
    "        self.tags[tag.lower()] = self.tags.get(tag.lower(), 0) + 1\n",
    "\n",
    "    #__getitem__: Retrieves the count of a tag from the dictionary. If the tag does not exist, it returns 0.\n",
    "    def __getitem__(self, tag):\n",
    "        return self.tags.get(tag.lower(), 0)\n",
    "\n",
    "    \n",
    "    def __setitem__(self, tag, count):\n",
    "        self.tags[tag.lower()] = count\n",
    "\n",
    "    def __len__(self):\n",
    "        return len(self.tags)\n",
    "\n",
    "    def __iter__(self):\n",
    "        return iter(self.tags)\n",
    "\n",
    "cloud = TagCloud()\n",
    "print(cloud[\"python\"])\n",
    "cloud.add(\"Python\")\n",
    "cloud.add(\"python\")\n",
    "cloud.add(\"python\")\n",
    "cloud.add(\"learn\")\n",
    "print(cloud.tags)\n",
    "print(len(cloud))\n",
    "\n",
    "for i in cloud:\n",
    "    print(i)"
   ]
  },
  {
   "cell_type": "code",
   "execution_count": 37,
   "metadata": {},
   "outputs": [
    {
     "name": "stdout",
     "output_type": "stream",
     "text": [
      "10\n"
     ]
    }
   ],
   "source": [
    "class Product:\n",
    "    def __init__(self, price):\n",
    "        self.__price = price\n",
    "    \n",
    "    @property\n",
    "    def price(self):\n",
    "        return self.__price\n",
    "\n",
    "    @price.setter\n",
    "    def price(self, value):\n",
    "        if value < 0:\n",
    "           raise ValueError(\"Price cannot be less than 0\")\n",
    "        self.__price = value\n",
    "    \n",
    "    \n",
    "product = Product(10)\n",
    "print(product.price)"
   ]
  },
  {
   "cell_type": "code",
   "execution_count": 47,
   "metadata": {},
   "outputs": [
    {
     "name": "stdout",
     "output_type": "stream",
     "text": [
      "Mammals constructor\n",
      "Animal constructor\n",
      "walk\n",
      "eat\n",
      "2\n",
      "1\n"
     ]
    }
   ],
   "source": [
    "class Animal:\n",
    "    def __init__(self):\n",
    "        print(\"Animal constructor\")\n",
    "        self.age = 1\n",
    "\n",
    "    def eat(self):\n",
    "        print(\"eat\")\n",
    "    \n",
    "class Mammals(Animal):\n",
    "    def __init__(self):\n",
    "        print(\"Mammals constructor\")\n",
    "        self.weight = 2\n",
    "        super().__init__()\n",
    "\n",
    "\n",
    "    def walk(self):\n",
    "        print(\"walk\")\n",
    "\n",
    "\n",
    "class Fish(Animal): \n",
    "    def swim(self):\n",
    "        print(\"swim\")\n",
    "\n",
    "\n",
    "m = Mammals()\n",
    "m.walk()\n",
    "m.eat()\n",
    "print(m.weight)\n",
    "print(m.age)"
   ]
  },
  {
   "cell_type": "code",
   "execution_count": 54,
   "metadata": {},
   "outputs": [],
   "source": [
    "from abc import ABC, abstractmethod\n",
    "\n",
    "class InvalidOperationError(Exception):\n",
    "    pass\n",
    "\n",
    "\n",
    "class Stream(ABC):\n",
    "    def __init__(self):\n",
    "        self.opened = False\n",
    "\n",
    "    def open(self):\n",
    "        if self.opened:\n",
    "            raise InvalidOperationError(\"Stream already opened\")\n",
    "        self.opened = True\n",
    "\n",
    "    def close(self):\n",
    "        if not self.opened:\n",
    "            raise InvalidOperationError(\"Stream already closed\")\n",
    "        self.opened = False\n",
    "\n",
    "    @abstractmethod\n",
    "    def read(self):\n",
    "        pass\n",
    "    \n",
    "class FileStream(Stream):\n",
    "    def read(self):\n",
    "        print(\"Reading data from file\")\n",
    "\n",
    "class NetworkStream(Stream):\n",
    "    def read(self):\n",
    "        print(\"Reading data from network\")\n",
    "\n",
    "class MemoryStream(Stream):\n",
    "    def read(self):\n",
    "        print(\"reading data from Memory\")\n",
    "\n",
    "\n",
    "stream = NetworkStream()\n",
    "m_stream = MemoryStream()\n",
    "m_stream.open()\n",
    "stream.open()"
   ]
  },
  {
   "cell_type": "code",
   "execution_count": 62,
   "metadata": {},
   "outputs": [
    {
     "name": "stdout",
     "output_type": "stream",
     "text": [
      "Dropdownlist\n",
      "TextBox\n",
      "['a', 'b', 'c', 'd']\n"
     ]
    }
   ],
   "source": [
    "from abc import ABC, abstractmethod\n",
    "\n",
    "class UIControl(ABC):\n",
    "    @abstractmethod\n",
    "    def draw(self):\n",
    "        pass\n",
    "\n",
    "class TextBox(UIControl):\n",
    "    def draw(self):\n",
    "        print(\"TextBox\")\n",
    "\n",
    "class DropDownList(UIControl):\n",
    "    def draw(self):\n",
    "        print(\"Dropdownlist\")\n",
    "\n",
    "def draw(controls):\n",
    "    for control in controls:\n",
    "        control.draw()\n",
    "\n",
    "\n",
    "ddl = DropDownList()\n",
    "textbox = TextBox()\n",
    "draw([ddl, textbox])\n"
   ]
  },
  {
   "cell_type": "code",
   "execution_count": 5,
   "metadata": {},
   "outputs": [
    {
     "name": "stdout",
     "output_type": "stream",
     "text": [
      "python python\n",
      "Append called\n",
      "[('1', '2')]\n",
      "['a', 'b', 'c', 'd']\n"
     ]
    }
   ],
   "source": [
    "#importing attributes of a built in type\n",
    "class Text(str):\n",
    "    def duplicate(self):\n",
    "        return self +self\n",
    "    \n",
    "\n",
    "#extending built-in type\n",
    "class TrackableList(list):\n",
    "    def append(self, *object):\n",
    "        print(\"Append called\")\n",
    "        super().append(object)\n",
    "\n",
    "some_text = Text(\"Python \")\n",
    "print(some_text.duplicate().lower().strip())\n",
    "\n",
    "text = TrackableList()\n",
    "text.append(\"1\", \"2\")\n",
    "print(text)\n",
    "\n",
    "try_list = [\"a\", \"b\" ,\"c\"]\n",
    "try_list.append(\"d\")\n",
    "print(try_list)"
   ]
  },
  {
   "cell_type": "code",
   "execution_count": 70,
   "metadata": {},
   "outputs": [
    {
     "name": "stdout",
     "output_type": "stream",
     "text": [
      "False\n",
      "True\n"
     ]
    }
   ],
   "source": [
    "class Point:\n",
    "    def __init__(self, x, y):\n",
    "        self.x = x\n",
    "        self.y = y\n",
    "\n",
    "p1 = Point(1, 2)\n",
    "p2 = Point(1, 2)\n",
    "print(p1 == p2)\n",
    "\n",
    "from collections import namedtuple\n",
    "\n",
    "Point = namedtuple(\"Point\", [\"x\", \"y\"])\n",
    "p1 = Point(x=1, y=2)\n",
    "p2 = Point(x=1, y=2)\n",
    "print(p1 == p2)"
   ]
  },
  {
   "cell_type": "code",
   "execution_count": null,
   "metadata": {},
   "outputs": [],
   "source": []
  }
 ],
 "metadata": {
  "kernelspec": {
   "display_name": "Python 3",
   "language": "python",
   "name": "python3"
  },
  "language_info": {
   "codemirror_mode": {
    "name": "ipython",
    "version": 3
   },
   "file_extension": ".py",
   "mimetype": "text/x-python",
   "name": "python",
   "nbconvert_exporter": "python",
   "pygments_lexer": "ipython3",
   "version": "3.9.13"
  },
  "orig_nbformat": 4
 },
 "nbformat": 4,
 "nbformat_minor": 2
}
